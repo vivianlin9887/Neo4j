{
 "cells": [
  {
   "attachments": {},
   "cell_type": "markdown",
   "metadata": {},
   "source": [
    "Code and data is provided by LinkedIn Learning: Create a Data Project with Neo4j (https://www.linkedin.com/learning/create-a-data-project-with-neo4j?u=76870426)"
   ]
  },
  {
   "cell_type": "code",
   "execution_count": 1,
   "metadata": {},
   "outputs": [],
   "source": [
    "# %pip install --upgrade py2neo\n",
    "from py2neo import Graph\n",
    "from py2neo.bulk import create_nodes, create_relationships\n",
    "import pandas as pd\n",
    "import json"
   ]
  },
  {
   "attachments": {},
   "cell_type": "markdown",
   "metadata": {},
   "source": [
    "## Load data"
   ]
  },
  {
   "cell_type": "code",
   "execution_count": 2,
   "metadata": {},
   "outputs": [
    {
     "data": {
      "text/html": [
       "<div>\n",
       "<style scoped>\n",
       "    .dataframe tbody tr th:only-of-type {\n",
       "        vertical-align: middle;\n",
       "    }\n",
       "\n",
       "    .dataframe tbody tr th {\n",
       "        vertical-align: top;\n",
       "    }\n",
       "\n",
       "    .dataframe thead th {\n",
       "        text-align: right;\n",
       "    }\n",
       "</style>\n",
       "<table border=\"1\" class=\"dataframe\">\n",
       "  <thead>\n",
       "    <tr style=\"text-align: right;\">\n",
       "      <th></th>\n",
       "      <th>business_id</th>\n",
       "      <th>business_name</th>\n",
       "      <th>business_address</th>\n",
       "      <th>city</th>\n",
       "      <th>zip</th>\n",
       "      <th>latitude</th>\n",
       "      <th>longitude</th>\n",
       "      <th>user_name</th>\n",
       "      <th>deviceID</th>\n",
       "      <th>scan_timestamp</th>\n",
       "    </tr>\n",
       "  </thead>\n",
       "  <tbody>\n",
       "    <tr>\n",
       "      <th>0</th>\n",
       "      <td>0190125-02-001</td>\n",
       "      <td>Greenline Publications Inc</td>\n",
       "      <td>68 Jordan Dr</td>\n",
       "      <td>San Francisco</td>\n",
       "      <td>94118</td>\n",
       "      <td>37.784632</td>\n",
       "      <td>-122.456876</td>\n",
       "      <td>Heather Baker</td>\n",
       "      <td>7874863620816</td>\n",
       "      <td>2022-01-03 23:19:25</td>\n",
       "    </tr>\n",
       "    <tr>\n",
       "      <th>1</th>\n",
       "      <td>1024823-04-151</td>\n",
       "      <td>Custom Corporate Catering</td>\n",
       "      <td>101 Spear St #A-21</td>\n",
       "      <td>San Francisco</td>\n",
       "      <td>94105</td>\n",
       "      <td>37.792534</td>\n",
       "      <td>-122.394067</td>\n",
       "      <td>Shelia Martin</td>\n",
       "      <td>5403628525158</td>\n",
       "      <td>2022-01-01 04:44:00</td>\n",
       "    </tr>\n",
       "    <tr>\n",
       "      <th>2</th>\n",
       "      <td>0311287-01-001</td>\n",
       "      <td>Club Donatello</td>\n",
       "      <td>501 Post St</td>\n",
       "      <td>San Francisco</td>\n",
       "      <td>94102</td>\n",
       "      <td>37.788083</td>\n",
       "      <td>-122.410080</td>\n",
       "      <td>Megan Montgomery</td>\n",
       "      <td>6411766564885</td>\n",
       "      <td>2022-01-03 20:22:08</td>\n",
       "    </tr>\n",
       "    <tr>\n",
       "      <th>3</th>\n",
       "      <td>0192864-00-000</td>\n",
       "      <td>Ly Ha</td>\n",
       "      <td>1500 Felton St</td>\n",
       "      <td>San Francisco</td>\n",
       "      <td>94134</td>\n",
       "      <td>37.726135</td>\n",
       "      <td>-122.419558</td>\n",
       "      <td>Dr. Diane Dyer</td>\n",
       "      <td>5612683382982</td>\n",
       "      <td>2022-01-03 17:06:04</td>\n",
       "    </tr>\n",
       "    <tr>\n",
       "      <th>4</th>\n",
       "      <td>0491034-01-001</td>\n",
       "      <td>Rabbee &amp; Associates</td>\n",
       "      <td>5120 Diamond Heights Blvd #C</td>\n",
       "      <td>San Francisco</td>\n",
       "      <td>94131</td>\n",
       "      <td>37.747090</td>\n",
       "      <td>-122.440617</td>\n",
       "      <td>Nicholas Ward</td>\n",
       "      <td>6704867322407</td>\n",
       "      <td>2022-01-03 18:40:44</td>\n",
       "    </tr>\n",
       "  </tbody>\n",
       "</table>\n",
       "</div>"
      ],
      "text/plain": [
       "      business_id               business_name              business_address  \\\n",
       "0  0190125-02-001  Greenline Publications Inc                  68 Jordan Dr   \n",
       "1  1024823-04-151   Custom Corporate Catering            101 Spear St #A-21   \n",
       "2  0311287-01-001              Club Donatello                   501 Post St   \n",
       "3  0192864-00-000                       Ly Ha                1500 Felton St   \n",
       "4  0491034-01-001         Rabbee & Associates  5120 Diamond Heights Blvd #C   \n",
       "\n",
       "            city    zip   latitude   longitude         user_name  \\\n",
       "0  San Francisco  94118  37.784632 -122.456876     Heather Baker   \n",
       "1  San Francisco  94105  37.792534 -122.394067     Shelia Martin   \n",
       "2  San Francisco  94102  37.788083 -122.410080  Megan Montgomery   \n",
       "3  San Francisco  94134  37.726135 -122.419558    Dr. Diane Dyer   \n",
       "4  San Francisco  94131  37.747090 -122.440617     Nicholas Ward   \n",
       "\n",
       "        deviceID       scan_timestamp  \n",
       "0  7874863620816  2022-01-03 23:19:25  \n",
       "1  5403628525158  2022-01-01 04:44:00  \n",
       "2  6411766564885  2022-01-03 20:22:08  \n",
       "3  5612683382982  2022-01-03 17:06:04  \n",
       "4  6704867322407  2022-01-03 18:40:44  "
      ]
     },
     "execution_count": 2,
     "metadata": {},
     "output_type": "execute_result"
    }
   ],
   "source": [
    "sf_data = pd.read_csv(\"sf_dataset.csv\")\n",
    "sf_data.head()"
   ]
  },
  {
   "cell_type": "code",
   "execution_count": 3,
   "metadata": {},
   "outputs": [
    {
     "data": {
      "text/plain": [
       "business_id          object\n",
       "business_name        object\n",
       "business_address     object\n",
       "city                 object\n",
       "zip                   int64\n",
       "latitude            float64\n",
       "longitude           float64\n",
       "user_name            object\n",
       "deviceID              int64\n",
       "scan_timestamp       object\n",
       "dtype: object"
      ]
     },
     "execution_count": 3,
     "metadata": {},
     "output_type": "execute_result"
    }
   ],
   "source": [
    "sf_data.dtypes"
   ]
  },
  {
   "cell_type": "code",
   "execution_count": 4,
   "metadata": {},
   "outputs": [],
   "source": [
    "# Change deviceID from int to string\n",
    "sf_data['deviceID'] = sf_data['deviceID'].astype(str)"
   ]
  },
  {
   "cell_type": "code",
   "execution_count": 5,
   "metadata": {},
   "outputs": [
    {
     "data": {
      "text/plain": [
       "business_id          object\n",
       "business_name        object\n",
       "business_address     object\n",
       "city                 object\n",
       "zip                   int64\n",
       "latitude            float64\n",
       "longitude           float64\n",
       "user_name            object\n",
       "deviceID             object\n",
       "scan_timestamp       object\n",
       "dtype: object"
      ]
     },
     "execution_count": 5,
     "metadata": {},
     "output_type": "execute_result"
    }
   ],
   "source": [
    "sf_data.dtypes"
   ]
  },
  {
   "attachments": {},
   "cell_type": "markdown",
   "metadata": {},
   "source": [
    "## Identify the nodes and relations for the data\n",
    "Nodes: Person, Business, Zip code<br>\n",
    "Relationships: User -[goes to]-> Business, Business -[is located]-> Zip code"
   ]
  },
  {
   "cell_type": "code",
   "execution_count": 6,
   "metadata": {},
   "outputs": [
    {
     "name": "stdout",
     "output_type": "stream",
     "text": [
      "(4998, 2)\n",
      "4998\n"
     ]
    }
   ],
   "source": [
    "# Prepare the Person nodes\n",
    "# Filter out data and drop duplicates (nodes can only be added once)\n",
    "df_person = sf_data.filter([\"user_name\",\"deviceID\"])\n",
    "df_person = df_person.drop_duplicates('deviceID', keep='last')\n",
    "print(df_person.shape)\n",
    "\n",
    "# Turn into JSON dictionary\n",
    "json_person = df_person.to_json(orient=\"records\")\n",
    "dict_person = json.loads(json_person)\n",
    "print(len(dict_person))"
   ]
  },
  {
   "cell_type": "code",
   "execution_count": 7,
   "metadata": {},
   "outputs": [
    {
     "name": "stdout",
     "output_type": "stream",
     "text": [
      "(2500, 5)\n",
      "2500\n"
     ]
    }
   ],
   "source": [
    "# Prepare the Business nodes\n",
    "# Filter out data and drop duplicates (nodes can only be added once)\n",
    "df_business = sf_data.filter([\"business_id\",\"business_name\",\"business_address\",\"latitude\",\"longitude\"])\n",
    "df_business = df_business.drop_duplicates('business_id', keep='last')\n",
    "print(df_business.shape)\n",
    "\n",
    "# Turn into JSON dictionary\n",
    "json_business = df_business.to_json(orient=\"records\")\n",
    "dict_business = json.loads(json_business)\n",
    "print(len(dict_business))"
   ]
  },
  {
   "cell_type": "code",
   "execution_count": 8,
   "metadata": {},
   "outputs": [
    {
     "name": "stdout",
     "output_type": "stream",
     "text": [
      "(36, 1)\n",
      "36\n"
     ]
    }
   ],
   "source": [
    "# Prepare Zip nodes\n",
    "# Filter out data and drop duplicates (nodes can only be added once)\n",
    "df_zip = sf_data.filter([\"zip\"])\n",
    "df_zip = df_zip.drop_duplicates('zip', keep='last')\n",
    "print(df_zip.shape)\n",
    "\n",
    "# Turn into JSON dictionary\n",
    "json_zip = df_zip.to_json(orient=\"records\")\n",
    "dict_zip = json.loads(json_zip)\n",
    "print(len(dict_zip))"
   ]
  },
  {
   "cell_type": "code",
   "execution_count": 9,
   "metadata": {},
   "outputs": [
    {
     "name": "stdout",
     "output_type": "stream",
     "text": [
      "(50000, 3) 50000\n",
      "(2500, 2) 2500\n"
     ]
    }
   ],
   "source": [
    "# Prepare relationships\n",
    "person_bus_relation = sf_data.filter([\"business_id\",\"deviceID\",\"scan_timestamp\"])\n",
    "json_pbr = person_bus_relation.to_json(orient=\"records\")\n",
    "dict_pbr = json.loads(json_pbr)\n",
    "print(person_bus_relation.shape, len(dict_pbr))\n",
    "\n",
    "bus_zip_relation = sf_data.filter([\"business_id\",\"zip\"])\n",
    "bus_zip_relation = bus_zip_relation.drop_duplicates('business_id', keep='last')\n",
    "json_bzr = bus_zip_relation.to_json(orient=\"records\")\n",
    "dict_bzr = json.loads(json_bzr)\n",
    "print(bus_zip_relation.shape, len(dict_bzr))"
   ]
  },
  {
   "attachments": {},
   "cell_type": "markdown",
   "metadata": {},
   "source": [
    "## Upload to Neo4j"
   ]
  },
  {
   "cell_type": "code",
   "execution_count": 10,
   "metadata": {},
   "outputs": [],
   "source": [
    "#connect to neo4j\n",
    "graph = Graph(\"neo4j+s://bd9aa907.databases.neo4j.io\", auth=(\"neo4j\", \"2mw9RXAsmXh1BWKxZYeQnq0Qf-uyvC5C0EMlG9uyLa4\"))\n",
    "graph.delete_all()"
   ]
  },
  {
   "cell_type": "code",
   "execution_count": 11,
   "metadata": {},
   "outputs": [
    {
     "name": "stdout",
     "output_type": "stream",
     "text": [
      "2500\n",
      "36\n",
      "4998\n"
     ]
    }
   ],
   "source": [
    "# Create Business nodes\n",
    "create_nodes(graph.auto(), dict_business, labels={\"Business\"})\n",
    "print(graph.nodes.match(\"Business\").count())\n",
    "\n",
    "# Create Zip nodes\n",
    "create_nodes(graph.auto(), dict_zip, labels={\"Zip\"})\n",
    "print(graph.nodes.match(\"Zip\").count())\n",
    "\n",
    "# create Person nodes\n",
    "create_nodes(graph.auto(), dict_person, labels={\"Person\"})\n",
    "print(graph.nodes.match(\"Person\").count())"
   ]
  },
  {
   "cell_type": "code",
   "execution_count": 12,
   "metadata": {},
   "outputs": [
    {
     "name": "stdout",
     "output_type": "stream",
     "text": [
      "50000\n"
     ]
    }
   ],
   "source": [
    "# Create relationships people visiting businesses\n",
    "ex_people = []\n",
    "\n",
    "for p in dict_pbr:\n",
    "    device= p[\"deviceID\"]\n",
    "    business = p[\"business_id\"]\n",
    "    p.pop(\"deviceID\")\n",
    "    p.pop(\"business_id\")\n",
    "\n",
    "    # Append as start node, relation, end node\n",
    "    ex_people.append((device, p, business))\n",
    "\n",
    "print(len(ex_people))"
   ]
  },
  {
   "cell_type": "code",
   "execution_count": 13,
   "metadata": {},
   "outputs": [
    {
     "name": "stdout",
     "output_type": "stream",
     "text": [
      "('7874863620816', {'scan_timestamp': '2022-01-03 23:19:25'}, '0190125-02-001')\n"
     ]
    }
   ],
   "source": [
    "# Relationship need to be a map/dictionary with name of the attribute and its value\n",
    "print(ex_people[0])"
   ]
  },
  {
   "cell_type": "code",
   "execution_count": 14,
   "metadata": {},
   "outputs": [],
   "source": [
    "# Add the relationship into Neo4j\n",
    "create_relationships(graph.auto(), ex_people, \"VISITED\", start_node_key=(\"Person\", \"deviceID\"), end_node_key=(\"Business\", \"business_id\"))"
   ]
  },
  {
   "cell_type": "code",
   "execution_count": 15,
   "metadata": {},
   "outputs": [
    {
     "name": "stdout",
     "output_type": "stream",
     "text": [
      "2500\n"
     ]
    }
   ],
   "source": [
    "#create zip and business\n",
    "ex_zip = []\n",
    "\n",
    "for p in dict_bzr:\n",
    "    zip= p[\"zip\"]\n",
    "    business = p[\"business_id\"]\n",
    "    ex_zip.append((business,{\"active\":1},zip))\n",
    "\n",
    "print(len(ex_zip))"
   ]
  },
  {
   "cell_type": "code",
   "execution_count": 16,
   "metadata": {},
   "outputs": [],
   "source": [
    "# Add relationship to Neo4j\n",
    "create_relationships(graph.auto(), ex_zip, \"ISLOCATED\", start_node_key=(\"Business\", \"business_id\"), end_node_key=(\"Zip\", \"zip\"))"
   ]
  },
  {
   "cell_type": "code",
   "execution_count": 17,
   "metadata": {},
   "outputs": [
    {
     "name": "stdout",
     "output_type": "stream",
     "text": [
      "('0190125-02-001', {'active': 1}, 94118)\n"
     ]
    }
   ],
   "source": [
    "# Relationship need to be a map/dictionary with name of the attribute and its value\n",
    "print(ex_zip[0])"
   ]
  }
 ],
 "metadata": {
  "kernelspec": {
   "display_name": "base",
   "language": "python",
   "name": "python3"
  },
  "language_info": {
   "codemirror_mode": {
    "name": "ipython",
    "version": 3
   },
   "file_extension": ".py",
   "mimetype": "text/x-python",
   "name": "python",
   "nbconvert_exporter": "python",
   "pygments_lexer": "ipython3",
   "version": "3.9.15"
  },
  "orig_nbformat": 4
 },
 "nbformat": 4,
 "nbformat_minor": 2
}
