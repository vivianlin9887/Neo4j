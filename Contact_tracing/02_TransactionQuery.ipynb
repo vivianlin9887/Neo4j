{
 "cells": [
  {
   "attachments": {},
   "cell_type": "markdown",
   "metadata": {},
   "source": [
    "Code and data is provided by LinkedIn Learning: Create a Data Project with Neo4j (https://www.linkedin.com/learning/create-a-data-project-with-neo4j?u=76870426)"
   ]
  },
  {
   "attachments": {},
   "cell_type": "markdown",
   "metadata": {},
   "source": [
    "## Transaction"
   ]
  },
  {
   "cell_type": "code",
   "execution_count": 1,
   "metadata": {},
   "outputs": [],
   "source": [
    "from py2neo import Graph, Node, Relationship, NodeMatcher\n",
    "import pprint"
   ]
  },
  {
   "cell_type": "code",
   "execution_count": 2,
   "metadata": {},
   "outputs": [],
   "source": [
    "# Connect to Neo4j with data already created in 01_DataImport.ipynb\n",
    "g = Graph(\"neo4j+s://bd9aa907.databases.neo4j.io\", auth=(\"neo4j\", \"2mw9RXAsmXh1BWKxZYeQnq0Qf-uyvC5C0EMlG9uyLa4\"))\n",
    "matcher = NodeMatcher(g)"
   ]
  },
  {
   "cell_type": "code",
   "execution_count": 4,
   "metadata": {},
   "outputs": [],
   "source": [
    "# Start the transaction\n",
    "tx = g.begin() # Allows rollback later\n",
    "try:\n",
    "    # Create the user node (does not check of node already exists!!)\n",
    "    a = matcher.match(\"Person\", device_id=\"0000000000001\").first()\n",
    "    if (a== None):\n",
    "\n",
    "        a = Node(\"Person\", device_id=\"0000000000001\", user_name = \"Andreas Kretz\")\n",
    "        tx.create(a)\n",
    "\n",
    "        # Check if node has been created if not raise exception to rollback transaction\n",
    "        if(tx.exists(a) == False):\n",
    "            raise (Exception) \n",
    "\n",
    "    # Create the relationship (user)-[VISITED]-(Business)\n",
    "    b = matcher.match(\"Business\", business_id=\"0322120-04-001\").first()\n",
    "\n",
    "    propierties = {\"scan_timestamp\":\"2022-01-01 12:55:55\"}\n",
    "    # Creates a directional relationship from a to b with properties added\n",
    "    r = Relationship(a, \"VISITED\", b, **propierties)\n",
    "    r.identity = None\n",
    "    tx.create(r)\n",
    "    \n",
    "    # check if relationship has been created if not raise exception to rollback transaction\n",
    "    if(tx.exists(r) == False):\n",
    "        raise (Exception)\n",
    "\n",
    "    # commit the transaction if everything was successful\n",
    "    g.commit(tx)\n",
    "\n",
    "except Exception as e:\n",
    "    g.rollback(tx) # Rollback the transaction on error\n",
    "    print(e)"
   ]
  },
  {
   "attachments": {},
   "cell_type": "markdown",
   "metadata": {},
   "source": [
    "## Query"
   ]
  },
  {
   "attachments": {},
   "cell_type": "markdown",
   "metadata": {},
   "source": [
    "Check query execution plan by adding PROFILE in front of query<br>\n",
    "Query optimization:\n",
    "1. Reduce the amount of data scanned for query by defining node label for the search (ex. MATCH (p:Person))\n",
    "2. Use index\n"
   ]
  },
  {
   "attachments": {},
   "cell_type": "markdown",
   "metadata": {},
   "source": [
    "Can confirm successful transaction by running following queries in browser:"
   ]
  },
  {
   "cell_type": "code",
   "execution_count": 14,
   "metadata": {},
   "outputs": [],
   "source": [
    "# Use queries in neo4j browser Bloom\n",
    "\n",
    "# MATCH (p:Person)\n",
    "# WHERE p.user_name = 'Andreas Kretz'\n",
    "# RETURN p;\n",
    "   \n",
    "# MATCH (b:Business)\n",
    "# WHERE b.business_id = '0322120-04-001'\n",
    "# RETURN b;\n",
    "\n",
    "# PROFILE\n",
    "# MATCH (p:Person)\n",
    "# WHERE p.user_name = 'Andreas Kretz'\n",
    "# RETURN p;\n",
    "\n",
    "# CREATE INDEX FOR (p:Person) ON (p.user_name);"
   ]
  },
  {
   "cell_type": "code",
   "execution_count": null,
   "metadata": {},
   "outputs": [],
   "source": [
    "# Create connection\n",
    "g = Graph(\"neo4j+s://bd9aa907.databases.neo4j.io\", auth=(\"neo4j\", \"2mw9RXAsmXh1BWKxZYeQnq0Qf-uyvC5C0EMlG9uyLa4\"))"
   ]
  },
  {
   "attachments": {},
   "cell_type": "markdown",
   "metadata": {},
   "source": [
    "### Example 1\n",
    "Find where Gilbert went and which zip code the business is in."
   ]
  },
  {
   "cell_type": "code",
   "execution_count": 7,
   "metadata": {},
   "outputs": [
    {
     "name": "stdout",
     "output_type": "stream",
     "text": [
      "[{'Business': {'business_address': '101 Townsend St 301',\n",
      "               'business_id': '0381970-05-001',\n",
      "               'business_name': 'Nwv',\n",
      "               'latitude': 37.780501,\n",
      "               'longitude': -122.390681},\n",
      "  'Zip': Node('Zip', zip=94107),\n",
      "  'p': Node('Person', deviceID='93545840801', user_name='Gilbert Harris')},\n",
      " {'Business': {'business_address': '3288 21st St 32',\n",
      "               'business_id': '0320944-01-001',\n",
      "               'business_name': 'Smartguy Records Of N America',\n",
      "               'latitude': 37.756935,\n",
      "               'longitude': -122.420957},\n",
      "  'Zip': Node('Zip', zip=94110),\n",
      "  'p': Node('Person', deviceID='93545840801', user_name='Gilbert Harris')},\n",
      " {'Business': {'business_address': '2358 Market St Ste 3',\n",
      "               'business_id': '1041513-10-151',\n",
      "               'business_name': 'Law Ofc Of Darlene B Comstedt',\n",
      "               'latitude': 37.763273,\n",
      "               'longitude': -122.434366},\n",
      "  'Zip': Node('Zip', zip=94114),\n",
      "  'p': Node('Person', deviceID='93545840801', user_name='Gilbert Harris')},\n",
      " {'Business': {'business_address': '327 23rd Ave Apt 4',\n",
      "               'business_id': '0486619-01-001',\n",
      "               'business_name': 'Acals Limo Service',\n",
      "               'latitude': 37.781496,\n",
      "               'longitude': -122.482701},\n",
      "  'Zip': Node('Zip', zip=94121),\n",
      "  'p': Node('Person', deviceID='93545840801', user_name='Gilbert Harris')},\n",
      " {'Business': {'business_address': '675 Jackson St',\n",
      "               'business_id': '0488986-01-001',\n",
      "               'business_name': 'Natural Healing Llc',\n",
      "               'latitude': 37.79606,\n",
      "               'longitude': -122.406411},\n",
      "  'Zip': Node('Zip', zip=94133),\n",
      "  'p': Node('Person', deviceID='93545840801', user_name='Gilbert Harris')},\n",
      " {'Business': {'business_address': '1367 Valencia St',\n",
      "               'business_id': '0490837-01-001',\n",
      "               'business_name': 'Natural Resources',\n",
      "               'latitude': 37.751063,\n",
      "               'longitude': -122.420559},\n",
      "  'Zip': Node('Zip', zip=94110),\n",
      "  'p': Node('Person', deviceID='93545840801', user_name='Gilbert Harris')},\n",
      " {'Business': {'business_address': '4024 24th St',\n",
      "               'business_id': '1015012-12-141',\n",
      "               'business_name': 'Patxis Pizza',\n",
      "               'latitude': 37.751401,\n",
      "               'longitude': -122.432412},\n",
      "  'Zip': Node('Zip', zip=94114),\n",
      "  'p': Node('Person', deviceID='93545840801', user_name='Gilbert Harris')},\n",
      " {'Business': {'business_address': '1231 Cortland Ave',\n",
      "               'business_id': '1036285-08-151',\n",
      "               'business_name': 'Verve Wellness Studio',\n",
      "               'latitude': 37.739845,\n",
      "               'longitude': -122.411499},\n",
      "  'Zip': Node('Zip', zip=94110),\n",
      "  'p': Node('Person', deviceID='93545840801', user_name='Gilbert Harris')}]\n",
      "8\n"
     ]
    }
   ],
   "source": [
    "# Using :ISLOCATED only shows the zip (directional + relation specified)\n",
    "result = g.run(\"MATCH (p:Person)-[VISITED]-(Business)-[:ISLOCATED]-(Zip)\\\n",
    "                WHERE p.user_name = 'Gilbert Harris'\\\n",
    "                RETURN p,Business,Zip\").data()\n",
    "pprint.pprint(result)\n",
    "pprint.pprint(len(result))"
   ]
  },
  {
   "cell_type": "code",
   "execution_count": 8,
   "metadata": {},
   "outputs": [
    {
     "name": "stdout",
     "output_type": "stream",
     "text": [
      "8\n"
     ]
    }
   ],
   "source": [
    "# Alternative way,  with an arrow instead of naming the relationship\n",
    "result = g.run(\"MATCH (p:Person)-->(Business)-->(Zip)\\\n",
    "                WHERE p.user_name = 'Gilbert Harris'\\\n",
    "                RETURN p,Business,Zip\").data()\n",
    "#pprint.pprint(result)\n",
    "pprint.pprint(len(result))"
   ]
  },
  {
   "cell_type": "code",
   "execution_count": 9,
   "metadata": {},
   "outputs": [
    {
     "name": "stdout",
     "output_type": "stream",
     "text": [
      "160\n"
     ]
    }
   ],
   "source": [
    "# Without specifying the direction of the relation or mention the relation by name, yield different result\n",
    "result = g.run(\"MATCH (p:Person)--(Business)--(Zip)\\\n",
    "                WHERE p.user_name = 'Gilbert Harris'\\\n",
    "                RETURN p,Business,Zip\").data()\n",
    "#pprint.pprint(result)\n",
    "pprint.pprint(len(result))"
   ]
  },
  {
   "attachments": {},
   "cell_type": "markdown",
   "metadata": {},
   "source": [
    "### Example 3\n",
    "Find everyone who went to a Bank that has 'Bank' in its name using a regex."
   ]
  },
  {
   "cell_type": "code",
   "execution_count": 10,
   "metadata": {},
   "outputs": [
    {
     "name": "stdout",
     "output_type": "stream",
     "text": [
      "140\n"
     ]
    }
   ],
   "source": [
    "### Play around with the relation and see different results try (-- or <-- or --> ) and expore the results\n",
    "result = g.run(\"MATCH (Business)-[vis:VISITED]-(Person)\\\n",
    "                WHERE Business.business_name =~ '.*Bank.*'\\\n",
    "                RETURN Business,Person\").data()\n",
    "#pprint.pprint(result)\n",
    "pprint.pprint(len(result))"
   ]
  },
  {
   "cell_type": "code",
   "execution_count": 12,
   "metadata": {},
   "outputs": [
    {
     "name": "stdout",
     "output_type": "stream",
     "text": [
      "7\n"
     ]
    }
   ],
   "source": [
    "# Having the direction as arrow here yields different result, this finds the number of business that has 'Bank' in the name\n",
    "result = g.run(\"MATCH (Business)-->(Person)\\\n",
    "                WHERE Business.business_name =~ '.*Bank.*'\\\n",
    "                RETURN Business,Person\").data()\n",
    "#pprint.pprint(result)\n",
    "pprint.pprint(len(result))"
   ]
  },
  {
   "cell_type": "code",
   "execution_count": 13,
   "metadata": {},
   "outputs": [
    {
     "name": "stdout",
     "output_type": "stream",
     "text": [
      "140\n"
     ]
    }
   ],
   "source": [
    "# Flipping the arrow will yield the same result because we are trying to find the person\n",
    "result = g.run(\"MATCH (Business)<--(Person)\\\n",
    "                WHERE Business.business_name =~ '.*Bank.*'\\\n",
    "                RETURN Business,Person\").data()\n",
    "#pprint.pprint(result)\n",
    "pprint.pprint(len(result))"
   ]
  },
  {
   "cell_type": "code",
   "execution_count": 11,
   "metadata": {},
   "outputs": [
    {
     "name": "stdout",
     "output_type": "stream",
     "text": [
      "49\n"
     ]
    }
   ],
   "source": [
    "# Find everyone who visited a bank on Jan 3rd\n",
    "result = g.run(\"MATCH (p:Person)-[vis:VISITED]-(b:Business)\\\n",
    "                WHERE vis.scan_timestamp =~ '2022-01-03.*' \\\n",
    "                AND b.business_name =~ '.*Bank.*'\\\n",
    "                RETURN b, p\").data()\n",
    "#pprint.pprint(result)\n",
    "pprint.pprint(len(result))"
   ]
  }
 ],
 "metadata": {
  "kernelspec": {
   "display_name": "base",
   "language": "python",
   "name": "python3"
  },
  "language_info": {
   "codemirror_mode": {
    "name": "ipython",
    "version": 3
   },
   "file_extension": ".py",
   "mimetype": "text/x-python",
   "name": "python",
   "nbconvert_exporter": "python",
   "pygments_lexer": "ipython3",
   "version": "3.9.15"
  },
  "orig_nbformat": 4
 },
 "nbformat": 4,
 "nbformat_minor": 2
}
